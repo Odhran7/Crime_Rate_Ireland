{
 "cells": [
  {
   "cell_type": "code",
   "execution_count": 1,
   "id": "a2c80676",
   "metadata": {},
   "outputs": [],
   "source": [
    "import pandas as pd\n",
    "import os\n",
    "import matplotlib.pyplot as plt\n"
   ]
  },
  {
   "cell_type": "code",
   "execution_count": 2,
   "id": "a59220e4",
   "metadata": {},
   "outputs": [
    {
     "data": {
      "text/plain": [
       "['.git',\n",
       " '.ipynb_checkpoints',\n",
       " 'crime_map.html',\n",
       " 'main.ipynb',\n",
       " 'map.geojson',\n",
       " 'recorded_crime_ireland.csv']"
      ]
     },
     "execution_count": 2,
     "metadata": {},
     "output_type": "execute_result"
    }
   ],
   "source": [
    "os.listdir()"
   ]
  },
  {
   "cell_type": "code",
   "execution_count": 60,
   "id": "020221da",
   "metadata": {},
   "outputs": [],
   "source": [
    "data = pd.read_csv(\"recorded_crime_ireland.csv\")"
   ]
  },
  {
   "cell_type": "code",
   "execution_count": 4,
   "id": "96824ed4",
   "metadata": {
    "scrolled": true
   },
   "outputs": [
    {
     "data": {
      "text/plain": [
       "<bound method NDFrame.head of                                   STATISTIC Label Quarter  \\\n",
       "0       Recorded Crime Offences under Reservation  2003Q1   \n",
       "1       Recorded Crime Offences under Reservation  2003Q1   \n",
       "2       Recorded Crime Offences under Reservation  2003Q1   \n",
       "3       Recorded Crime Offences under Reservation  2003Q1   \n",
       "4       Recorded Crime Offences under Reservation  2003Q1   \n",
       "...                                           ...     ...   \n",
       "157047  Recorded Crime Offences under Reservation  2022Q3   \n",
       "157048  Recorded Crime Offences under Reservation  2022Q3   \n",
       "157049  Recorded Crime Offences under Reservation  2022Q3   \n",
       "157050  Recorded Crime Offences under Reservation  2022Q3   \n",
       "157051  Recorded Crime Offences under Reservation  2022Q3   \n",
       "\n",
       "                       Garda Division  \\\n",
       "0       Cavan/Monaghan Garda Division   \n",
       "1       Cavan/Monaghan Garda Division   \n",
       "2       Cavan/Monaghan Garda Division   \n",
       "3       Cavan/Monaghan Garda Division   \n",
       "4       Cavan/Monaghan Garda Division   \n",
       "...                               ...   \n",
       "157047  D.M.R. Western Garda Division   \n",
       "157048  D.M.R. Western Garda Division   \n",
       "157049  D.M.R. Western Garda Division   \n",
       "157050  D.M.R. Western Garda Division   \n",
       "157051  D.M.R. Western Garda Division   \n",
       "\n",
       "                                          Type of Offence    UNIT  VALUE  \n",
       "0                                       Homicide offences  Number      1  \n",
       "1                                                  Murder  Number      0  \n",
       "2                                            Manslaughter  Number      0  \n",
       "3                                             Infanticide  Number      0  \n",
       "4                      Dangerous driving leading to death  Number      1  \n",
       "...                                                   ...     ...    ...  \n",
       "157047  Offences against government, justice procedure...  Number    329  \n",
       "157048         Offences against government and its agents  Number      6  \n",
       "157049  Organisation of crime and conspiracy to commit...  Number      0  \n",
       "157050                   Perverting the course of justice  Number      0  \n",
       "157051  Offences while in custody, breach of court orders  Number    323  \n",
       "\n",
       "[157052 rows x 6 columns]>"
      ]
     },
     "execution_count": 4,
     "metadata": {},
     "output_type": "execute_result"
    }
   ],
   "source": [
    "data.head\n"
   ]
  },
  {
   "cell_type": "code",
   "execution_count": null,
   "id": "1e9605b4",
   "metadata": {},
   "outputs": [],
   "source": []
  },
  {
   "cell_type": "code",
   "execution_count": 5,
   "id": "309d159b",
   "metadata": {},
   "outputs": [
    {
     "data": {
      "text/plain": [
       "array(['Homicide offences', 'Murder', 'Manslaughter', 'Infanticide',\n",
       "       'Dangerous driving leading to death', 'Sexual offences',\n",
       "       'Rape and sexual assault', 'Other sexual offences',\n",
       "       'Attempts/threats to murder, assaults, harassments and related offences',\n",
       "       'Murder-attempt', 'Threat to kill or cause serious harm',\n",
       "       'Harassment and related offences',\n",
       "       'Assault causing harm, poisoning', 'Other assault',\n",
       "       'Dangerous or negligent acts',\n",
       "       'Dangerous driving causing serious bodily harm',\n",
       "       'Driving/in charge of a vehicle while over legal alcohol limit',\n",
       "       'Driving/in charge of a vehicle under the influence of drugs',\n",
       "       'Endangerment with potential for serious harm/death',\n",
       "       'Abandoning a child, child neglect and cruelty',\n",
       "       'Unseaworthy/dangerous use of boat or ship',\n",
       "       'False alarm/interference with aircraft or air transport facilities',\n",
       "       'Endangering traffic offences', 'Kidnapping and related offences',\n",
       "       'False imprisonment', 'Abduction of person under 16 years of age',\n",
       "       'Human trafficking offences',\n",
       "       'Robbery, extortion and hijacking offences',\n",
       "       'Robbery of an establishment or institution',\n",
       "       'Robbery of cash or goods in transit', 'Robbery from the person',\n",
       "       'Blackmail or extortion',\n",
       "       'Carjacking, hijacking/unlawful seizure of aircraft/vessel',\n",
       "       'Burglary and related offences', 'Aggravated burglary',\n",
       "       'Burglary (not aggravated)',\n",
       "       'Possession of an article (with intent to burgle, steal, demand)',\n",
       "       'Theft and related offences',\n",
       "       'Theft/taking of vehicle and related offences',\n",
       "       'Theft from person', 'Theft from shop',\n",
       "       'Other thefts, handling stolen property',\n",
       "       'Fraud, deception and related offences',\n",
       "       'Controlled drug offences', 'Importation of drugs',\n",
       "       'Cultivation or manufacture of drugs',\n",
       "       'Possession of drugs for sale or supply',\n",
       "       'Possession of drugs for personal use', 'Other drug offences',\n",
       "       'Weapons and Explosives Offences',\n",
       "       'Explosives, chemical weapons offences', 'Discharging a firearm',\n",
       "       'Possession of a firearm', 'Offensive weapons offences (n.e.c.)',\n",
       "       'Fireworks offences', 'Damage to property and to the environment',\n",
       "       'Arson', 'Criminal damage (not arson)', 'Litter offences',\n",
       "       'Public order and other social code offences',\n",
       "       'Disorderly conduct', 'Trespass offences',\n",
       "       'Liquor licensing offences', 'Prostitution offences',\n",
       "       'Regulated betting/money, collection/trading offences',\n",
       "       'Social code offences (n.e.c.)',\n",
       "       'Offences against government, justice procedures and organisation of crime',\n",
       "       'Offences against government and its agents',\n",
       "       'Organisation of crime and conspiracy to commit crime',\n",
       "       'Perverting the course of justice',\n",
       "       'Offences while in custody, breach of court orders'], dtype=object)"
      ]
     },
     "execution_count": 5,
     "metadata": {},
     "output_type": "execute_result"
    }
   ],
   "source": [
    "data[\"Type of Offence\"].unique()\n"
   ]
  },
  {
   "cell_type": "code",
   "execution_count": 6,
   "id": "8c0c7093",
   "metadata": {},
   "outputs": [
    {
     "name": "stdout",
     "output_type": "stream",
     "text": [
      "{'Homicide offences': 'other crimes', 'Murder': 'other crimes', 'Manslaughter': 'other crimes', 'Infanticide': 'other crimes', 'Dangerous driving leading to death': 'other crimes', 'Sexual offences': 'other crimes', 'Rape and sexual assault': 'other crimes', 'Other sexual offences': 'other crimes', 'Attempts/threats to murder, assaults, harassments and related offences': 'other crimes', 'Murder-attempt': 'other crimes', 'Threat to kill or cause serious harm': 'other crimes', 'Harassment and related offences': 'other crimes', 'Assault causing harm, poisoning': 'other crimes', 'Other assault': 'other crimes', 'Dangerous or negligent acts': 'other crimes', 'Dangerous driving causing serious bodily harm': 'other crimes', 'Driving/in charge of a vehicle while over legal alcohol limit': 'other crimes', 'Driving/in charge of a vehicle under the influence of drugs': 'drugs', 'Endangerment with potential for serious harm/death': 'other crimes', 'Abandoning a child, child neglect and cruelty': 'other crimes', 'Unseaworthy/dangerous use of boat or ship': 'other crimes', 'False alarm/interference with aircraft or air transport facilities': 'other crimes', 'Endangering traffic offences': 'other crimes', 'Kidnapping and related offences': 'other crimes', 'False imprisonment': 'other crimes', 'Abduction of person under 16 years of age': 'other crimes', 'Human trafficking offences': 'other crimes', 'Robbery, extortion and hijacking offences': 'other crimes', 'Robbery of an establishment or institution': 'other crimes', 'Robbery of cash or goods in transit': 'other crimes', 'Robbery from the person': 'other crimes', 'Blackmail or extortion': 'other crimes', 'Carjacking, hijacking/unlawful seizure of aircraft/vessel': 'other crimes', 'Burglary and related offences': 'other crimes', 'Aggravated burglary': 'other crimes', 'Burglary (not aggravated)': 'other crimes', 'Possession of an article (with intent to burgle, steal, demand)': 'other crimes', 'Theft and related offences': 'other crimes', 'Theft/taking of vehicle and related offences': 'other crimes', 'Theft from person': 'other crimes', 'Theft from shop': 'other crimes', 'Other thefts, handling stolen property': 'other crimes', 'Fraud, deception and related offences': 'other crimes', 'Controlled drug offences': 'drugs', 'Importation of drugs': 'drugs', 'Cultivation or manufacture of drugs': 'drugs', 'Possession of drugs for sale or supply': 'drugs', 'Possession of drugs for personal use': 'drugs', 'Other drug offences': 'drugs', 'Weapons and Explosives Offences': 'other crimes', 'Explosives, chemical weapons offences': 'other crimes', 'Discharging a firearm': 'other crimes', 'Possession of a firearm': 'other crimes', 'Offensive weapons offences (n.e.c.)': 'other crimes', 'Fireworks offences': 'other crimes', 'Damage to property and to the environment': 'other crimes', 'Arson': 'other crimes', 'Criminal damage (not arson)': 'other crimes', 'Litter offences': 'other crimes', 'Public order and other social code offences': 'other crimes', 'Disorderly conduct': 'other crimes', 'Trespass offences': 'other crimes', 'Liquor licensing offences': 'other crimes', 'Prostitution offences': 'other crimes', 'Regulated betting/money, collection/trading offences': 'other crimes', 'Social code offences (n.e.c.)': 'other crimes', 'Offences against government, justice procedures and organisation of crime': 'other crimes', 'Offences against government and its agents': 'other crimes', 'Organisation of crime and conspiracy to commit crime': 'other crimes', 'Perverting the course of justice': 'other crimes', 'Offences while in custody, breach of court orders': 'other crimes'}\n"
     ]
    }
   ],
   "source": [
    "crime_list = ['Homicide offences', 'Murder', 'Manslaughter', 'Infanticide',\n",
    "       'Dangerous driving leading to death', 'Sexual offences',\n",
    "       'Rape and sexual assault', 'Other sexual offences',\n",
    "       'Attempts/threats to murder, assaults, harassments and related offences',\n",
    "       'Murder-attempt', 'Threat to kill or cause serious harm',\n",
    "       'Harassment and related offences',\n",
    "       'Assault causing harm, poisoning', 'Other assault',\n",
    "       'Dangerous or negligent acts',\n",
    "       'Dangerous driving causing serious bodily harm',\n",
    "       'Driving/in charge of a vehicle while over legal alcohol limit',\n",
    "       'Driving/in charge of a vehicle under the influence of drugs',\n",
    "       'Endangerment with potential for serious harm/death',\n",
    "       'Abandoning a child, child neglect and cruelty',\n",
    "       'Unseaworthy/dangerous use of boat or ship',\n",
    "       'False alarm/interference with aircraft or air transport facilities',\n",
    "       'Endangering traffic offences', 'Kidnapping and related offences',\n",
    "       'False imprisonment', 'Abduction of person under 16 years of age',\n",
    "       'Human trafficking offences',\n",
    "       'Robbery, extortion and hijacking offences',\n",
    "       'Robbery of an establishment or institution',\n",
    "       'Robbery of cash or goods in transit', 'Robbery from the person',\n",
    "       'Blackmail or extortion',\n",
    "       'Carjacking, hijacking/unlawful seizure of aircraft/vessel',\n",
    "       'Burglary and related offences', 'Aggravated burglary',\n",
    "       'Burglary (not aggravated)',\n",
    "       'Possession of an article (with intent to burgle, steal, demand)',\n",
    "       'Theft and related offences',\n",
    "       'Theft/taking of vehicle and related offences',\n",
    "       'Theft from person', 'Theft from shop',\n",
    "       'Other thefts, handling stolen property',\n",
    "       'Fraud, deception and related offences',\n",
    "       'Controlled drug offences', 'Importation of drugs',\n",
    "       'Cultivation or manufacture of drugs',\n",
    "       'Possession of drugs for sale or supply',\n",
    "       'Possession of drugs for personal use', 'Other drug offences',\n",
    "       'Weapons and Explosives Offences',\n",
    "       'Explosives, chemical weapons offences', 'Discharging a firearm',\n",
    "       'Possession of a firearm', 'Offensive weapons offences (n.e.c.)',\n",
    "       'Fireworks offences', 'Damage to property and to the environment',\n",
    "       'Arson', 'Criminal damage (not arson)', 'Litter offences',\n",
    "       'Public order and other social code offences',\n",
    "       'Disorderly conduct', 'Trespass offences',\n",
    "       'Liquor licensing offences', 'Prostitution offences',\n",
    "       'Regulated betting/money, collection/trading offences',\n",
    "       'Social code offences (n.e.c.)',\n",
    "       'Offences against government, justice procedures and organisation of crime',\n",
    "       'Offences against government and its agents',\n",
    "       'Organisation of crime and conspiracy to commit crime',\n",
    "       'Perverting the course of justice',\n",
    "       'Offences while in custody, breach of court orders']\n",
    "\n",
    "crime_dict = {}\n",
    "for crime in crime_list:\n",
    "    if 'drug' in crime.lower():\n",
    "        crime_dict[crime] = 'drugs'\n",
    "    else:\n",
    "        crime_dict[crime] = 'other crimes'\n",
    "print(crime_dict)\n"
   ]
  },
  {
   "cell_type": "code",
   "execution_count": 62,
   "id": "9b0ceaf7",
   "metadata": {},
   "outputs": [
    {
     "data": {
      "image/png": "[encoded data removed]",
      "text/plain": [
       "<Figure size 432x288 with 1 Axes>"
      ]
     },
     "metadata": {
      "needs_background": "light"
     },
     "output_type": "display_data"
    },
    {
     "name": "stdout",
     "output_type": "stream",
     "text": [
      "Pearson correlation coefficient: 0.017958583264550017\n"
     ]
    },
    {
     "data": {
      "image/png": "[encoded data removed]",
      "text/plain": [
       "<Figure size 432x288 with 1 Axes>"
      ]
     },
     "metadata": {
      "needs_background": "light"
     },
     "output_type": "display_data"
    }
   ],
   "source": [
    "import pandas as pd\n",
    "\n",
    "# Assuming the dataset is loaded into a DataFrame called 'data'\n",
    "\n",
    "# Preprocessing\n",
    "data[['Year', 'Q']] = data['Quarter'].str.extract('(\\d{4})Q(\\d)')\n",
    "data['Year'] = data['Year'].astype(int)\n",
    "data['Category'] = data['Type of Offence'].map(crime_dict)\n",
    "yearly_data = data.groupby(['Year', 'Category'])['VALUE'].sum().reset_index()\n",
    "\n",
    "# Visualization\n",
    "fig, ax = plt.subplots()\n",
    "for category, group in yearly_data.groupby('Category'):\n",
    "    ax.plot(group['Year'], group['VALUE'], label=category)\n",
    "\n",
    "ax.set_xlabel('Year')\n",
    "ax.set_ylabel('Number of Offences')\n",
    "ax.legend()\n",
    "plt.show()\n",
    "\n",
    "# Calculate Pearson correlation coefficient\n",
    "correlation = yearly_data.pivot(index='Year', columns='Category', values='VALUE').corr().iloc[0, 1]\n",
    "print(f\"Pearson correlation coefficient: {correlation}\")\n",
    "\n",
    "# Scatter plot\n",
    "plt.scatter(yearly_data[yearly_data['Category'] == 'drugs']['VALUE'],\n",
    "            yearly_data[yearly_data['Category'] == 'other crimes']['VALUE'])\n",
    "plt.xlabel('Drug-related crimes')\n",
    "plt.ylabel('Other crimes')\n",
    "plt.show()"
   ]
  },
  {
   "cell_type": "code",
   "execution_count": 64,
   "id": "0c92b884",
   "metadata": {},
   "outputs": [
    {
     "data": {
      "image/png": "[encoded data removed]",
      "text/plain": [
       "<Figure size 432x288 with 1 Axes>"
      ]
     },
     "metadata": {
      "needs_background": "light"
     },
     "output_type": "display_data"
    },
    {
     "name": "stdout",
     "output_type": "stream",
     "text": [
      "Pearson correlation coefficient: 0.017958583264550017\n"
     ]
    },
    {
     "data": {
      "image/png": "[encoded data removed]",
      "text/plain": [
       "<Figure size 432x288 with 1 Axes>"
      ]
     },
     "metadata": {
      "needs_background": "light"
     },
     "output_type": "display_data"
    }
   ],
   "source": [
    "    import pandas as pd\n",
    "    import numpy as np\n",
    "    import matplotlib.pyplot as plt\n",
    "\n",
    "    # Assuming the dataset is loaded into a DataFrame called 'data'\n",
    "\n",
    "    # Preprocessing\n",
    "    data[['Year', 'Q']] = data['Quarter'].str.extract('(\\d{4})Q(\\d)')\n",
    "    data['Year'] = data['Year'].astype(int)\n",
    "    data['Category'] = data['Type of Offence'].map(crime_dict)\n",
    "    yearly_data = data.groupby(['Year', 'Category'])['VALUE'].sum().reset_index()\n",
    "\n",
    "    # Visualization\n",
    "    fig, ax = plt.subplots()\n",
    "    for category, group in yearly_data.groupby('Category'):\n",
    "        ax.plot(group['Year'], np.log(group['VALUE']), label=category)\n",
    "\n",
    "    ax.set_xlabel('Year')\n",
    "    ax.set_ylabel('Log of Number of Offences')\n",
    "    ax.legend()\n",
    "    plt.show()\n",
    "\n",
    "    # Calculate Pearson correlation coefficient\n",
    "    correlation = yearly_data.pivot(index='Year', columns='Category', values='VALUE').corr().iloc[0, 1]\n",
    "    print(f\"Pearson correlation coefficient: {correlation}\")\n",
    "\n",
    "    # Scatter plot with linear regression line\n",
    "    x = np.log(yearly_data[yearly_data['Category'] == 'drugs']['VALUE'])\n",
    "    y = np.log(yearly_data[yearly_data['Category'] == 'other crimes']['VALUE'])\n",
    "    plt.scatter(x, y)\n",
    "    plt.xlabel('Log of Drug-related crimes')\n",
    "    plt.ylabel('Log of Other crimes')\n",
    "\n",
    "    # Calculate and plot linear regression line\n",
    "    m, b = np.polyfit(x, y, 1)\n",
    "    plt.plot(x, m * x + b, color='red')\n",
    "\n",
    "    plt.show()\n"
   ]
  },
  {
   "cell_type": "code",
   "execution_count": 20,
   "id": "ce385287",
   "metadata": {},
   "outputs": [
    {
     "data": {
      "image/png": "[encoded data removed]",
      "text/plain": [
       "<Figure size 432x288 with 1 Axes>"
      ]
     },
     "metadata": {
      "needs_background": "light"
     },
     "output_type": "display_data"
    }
   ],
   "source": [
    "# Group the data by Garda Division and sum the values\n",
    "group_data = data.groupby('Garda Division').sum()\n",
    "\n",
    "# Remove ' Garda Division' from the end of each index label\n",
    "group_data.index = group_data.index.str.replace(' Garda Division', '')\n",
    "\n",
    "# Plot the data\n",
    "group_data.plot(kind='bar', y='VALUE')\n",
    "\n",
    "# Set the x-axis label\n",
    "plt.xlabel('Garda Division')\n",
    "\n",
    "# Display the plot\n",
    "plt.show()\n"
   ]
  },
  {
   "cell_type": "raw",
   "id": "2635b489",
   "metadata": {},
   "source": []
  },
  {
   "cell_type": "code",
   "execution_count": 25,
   "id": "cfa9e6d9",
   "metadata": {},
   "outputs": [
    {
     "name": "stdout",
     "output_type": "stream",
     "text": [
      "Slope:  [-1911.00286471]\n",
      "Intercept:  [3964139.5590923]\n"
     ]
    }
   ],
   "source": [
    "import numpy as np\n",
    "from sklearn.linear_model import LinearRegression\n",
    "\n",
    "# Filter out 2020 data\n",
    "data = data[data['Quarter'] != '2020Q1']\n",
    "data = data[data['Quarter'] != '2020Q2']\n",
    "data = data[data['Quarter'] != '2020Q3']\n",
    "data = data[data['Quarter'] != '2020Q4']\n",
    "\n",
    "# Group the data by quarter and sum the values\n",
    "group_data = data.groupby('Quarter').sum()\n",
    "\n",
    "# Extract the x and y data for the linear regression model\n",
    "x_data = group_data.index.str.replace('Q', '.').astype(float).values.reshape(-1, 1)\n",
    "y_data = group_data['VALUE'].values.reshape(-1, 1)\n",
    "\n",
    "# Fit the linear regression model\n",
    "model = LinearRegression().fit(x_data, y_data)\n",
    "\n",
    "# Print the coefficients of the model\n",
    "print('Slope: ', model.coef_[0])\n",
    "print('Intercept: ', model.intercept_)"
   ]
  },
  {
   "cell_type": "code",
   "execution_count": 26,
   "id": "e2eff4ae",
   "metadata": {},
   "outputs": [
    {
     "data": {
      "image/png": "[encoded data removed]",
      "text/plain": [
       "<Figure size 432x288 with 1 Axes>"
      ]
     },
     "metadata": {
      "needs_background": "light"
     },
     "output_type": "display_data"
    }
   ],
   "source": [
    "import matplotlib.pyplot as plt\n",
    "import seaborn as sns\n",
    "\n",
    "# Group data by quarter and sum the values\n",
    "group_data = data.groupby('Quarter').sum()\n",
    "\n",
    "# Remove 2020 from the data\n",
    "group_data = group_data[group_data.index != '2020Q1']\n",
    "group_data = group_data[group_data.index != '2020Q2']\n",
    "group_data = group_data[group_data.index != '2020Q3']\n",
    "group_data = group_data[group_data.index != '2020Q4']\n",
    "\n",
    "# Create a scatter plot of the data points\n",
    "sns.scatterplot(x=group_data.index, y='VALUE', data=group_data)\n",
    "\n",
    "# Fit a linear regression model to the data\n",
    "X = [[int(q[:4]), int(q[5:])] for q in group_data.index]\n",
    "y = group_data['VALUE']\n",
    "model = LinearRegression().fit(X, y)\n",
    "\n",
    "# Get the predicted values for the regression line\n",
    "x_pred = [[year, quarter] for year in range(2003, 2023) for quarter in range(1, 5)]\n",
    "y_pred = model.predict(x_pred)\n",
    "\n",
    "# Plot the regression line on top of the scatter plot\n",
    "plt.plot([q for q in group_data.index], model.predict(X), color='red')\n",
    "plt.show()\n"
   ]
  },
  {
   "cell_type": "code",
   "execution_count": 30,
   "id": "5759d842",
   "metadata": {},
   "outputs": [
    {
     "data": {
      "image/png": "[encoded data removed]",
      "text/plain": [
       "<Figure size 432x288 with 1 Axes>"
      ]
     },
     "metadata": {
      "needs_background": "light"
     },
     "output_type": "display_data"
    }
   ],
   "source": [
    "# Extract the year from the 'Quarter' column and create a new column\n",
    "data['Year'] = data['Quarter'].apply(lambda x: int(x[:4]))\n",
    "\n",
    "# Group data by year and sum the values\n",
    "group_data = data.groupby('Year').sum()\n",
    "\n",
    "# Remove 2020 from the data\n",
    "group_data = group_data[group_data.index != 2020]\n",
    "\n",
    "# Create a scatter plot of the data points\n",
    "sns.scatterplot(x=group_data.index, y='VALUE', data=group_data)\n",
    "\n",
    "# Fit a linear regression model to the data\n",
    "X = [[year] for year in group_data.index]\n",
    "y = group_data['VALUE']\n",
    "model = LinearRegression().fit(X, y)\n",
    "\n",
    "# Get the predicted values for the regression line\n",
    "x_pred = [[year] for year in range(2003, 2023)]\n",
    "y_pred = model.predict(x_pred)\n",
    "\n",
    "# Plot the regression line on top of the scatter plot\n",
    "plt.plot(x_pred, y_pred, color='red')\n",
    "plt.show()\n"
   ]
  },
  {
   "cell_type": "code",
   "execution_count": 32,
   "id": "35ed5e8a",
   "metadata": {},
   "outputs": [
    {
     "name": "stdout",
     "output_type": "stream",
     "text": [
      "Collecting folium\n",
      "  Downloading folium-0.14.0-py2.py3-none-any.whl (102 kB)\n",
      "Requirement already satisfied: jinja2>=2.9 in c:\\users\\odhran\\anaconda3\\lib\\site-packages (from folium) (2.11.3)\n",
      "Requirement already satisfied: numpy in c:\\users\\odhran\\anaconda3\\lib\\site-packages (from folium) (1.20.3)\n",
      "Collecting branca>=0.6.0\n",
      "  Downloading branca-0.6.0-py3-none-any.whl (24 kB)\n",
      "Requirement already satisfied: requests in c:\\users\\odhran\\anaconda3\\lib\\site-packages (from folium) (2.26.0)\n",
      "Requirement already satisfied: MarkupSafe>=0.23 in c:\\users\\odhran\\anaconda3\\lib\\site-packages (from jinja2>=2.9->folium) (1.1.1)\n",
      "Requirement already satisfied: idna<4,>=2.5 in c:\\users\\odhran\\anaconda3\\lib\\site-packages (from requests->folium) (3.2)\n",
      "Requirement already satisfied: charset-normalizer~=2.0.0 in c:\\users\\odhran\\anaconda3\\lib\\site-packages (from requests->folium) (2.0.4)\n",
      "Requirement already satisfied: urllib3<1.27,>=1.21.1 in c:\\users\\odhran\\anaconda3\\lib\\site-packages (from requests->folium) (1.26.7)\n",
      "Requirement already satisfied: certifi>=2017.4.17 in c:\\users\\odhran\\anaconda3\\lib\\site-packages (from requests->folium) (2021.10.8)\n",
      "Installing collected packages: branca, folium\n",
      "Successfully installed branca-0.6.0 folium-0.14.0\n",
      "Note: you may need to restart the kernel to use updated packages.\n"
     ]
    }
   ],
   "source": [
    "pip install folium"
   ]
  },
  {
   "cell_type": "code",
   "execution_count": 40,
   "id": "94dfc42c",
   "metadata": {},
   "outputs": [
    {
     "data": {
      "text/plain": [
       "['.ipynb_checkpoints',\n",
       " 'Ireland.geojson.txt',\n",
       " 'recorded_crime_ireland.csv',\n",
       " 'Untitled.ipynb']"
      ]
     },
     "execution_count": 40,
     "metadata": {},
     "output_type": "execute_result"
    }
   ],
   "source": [
    "os.listdir()"
   ]
  },
  {
   "cell_type": "code",
   "execution_count": 43,
   "id": "56fb8a5b",
   "metadata": {},
   "outputs": [
    {
     "data": {
      "text/plain": [
       "Index(['Garda Division', 'Type of Offence', 'VALUE'], dtype='object')"
      ]
     },
     "execution_count": 43,
     "metadata": {},
     "output_type": "execute_result"
    }
   ],
   "source": [
    "data.columns"
   ]
  },
  {
   "cell_type": "code",
   "execution_count": 14,
   "id": "6f26984d",
   "metadata": {},
   "outputs": [
    {
     "data": {
      "text/plain": [
       "array(['Cavan/Monaghan Garda Division', 'Donegal Garda Division',\n",
       "       'Sligo/Leitrim Garda Division', 'Louth Garda Division',\n",
       "       'Clare Garda Division', 'Mayo Garda Division',\n",
       "       'Galway Garda Division', 'Roscommon/Longford Garda Division',\n",
       "       'Cork City Garda Division', 'Cork North Garda Division',\n",
       "       'Cork West Garda Division', 'Kerry Garda Division',\n",
       "       'Limerick Garda Division', 'Laois/Offaly Garda Division',\n",
       "       'Meath Garda Division', 'Wicklow Garda Division',\n",
       "       'Westmeath Garda Division', 'Kildare Garda Division',\n",
       "       'Tipperary Garda Division', 'Wexford Garda Division',\n",
       "       'Kilkenny/Carlow Garda Division', 'Waterford Garda Division',\n",
       "       'D.M.R. South Central Garda Division',\n",
       "       'D.M.R. North Central Garda Division',\n",
       "       'D.M.R. Northern Garda Division', 'D.M.R. Southern Garda Division',\n",
       "       'D.M.R. Eastern Garda Division', 'D.M.R. Western Garda Division'],\n",
       "      dtype=object)"
      ]
     },
     "execution_count": 14,
     "metadata": {},
     "output_type": "execute_result"
    }
   ],
   "source": [
    "garda_divisions = data['Garda Division'].unique()\n",
    "garda_divisions"
   ]
  },
  {
   "cell_type": "code",
   "execution_count": 19,
   "id": "86a0d552",
   "metadata": {},
   "outputs": [],
   "source": [
    "values = {\n",
    "    'Fingal': 'D.M.R. North Central Garda Division',\n",
    "    'Waterford City': 'Waterford Garda Division',\n",
    "    'Kerry County': 'Kerry Garda Division',\n",
    "    'Roscommon County': 'Roscommon/Longford Garda Division',\n",
    "    'South Dublin': 'D.M.R. Eastern Garda Division',\n",
    "    'Monaghan County': 'Cavan/Monaghan Garda Division',\n",
    "    'Laois County': 'Laois/Offaly Garda Division',\n",
    "    'Wexford County': 'Wexford Garda Division',\n",
    "    'Limerick City': 'Limerick Garda Division',\n",
    "    'Westmeath County': 'Westmeath Garda Division',\n",
    "    'Dublin City': 'D.M.R. Southern Garda Division',\n",
    "    'Clare County': 'Clare Garda Division',\n",
    "    'Waterford County': 'Waterford Garda Division',\n",
    "    'Limerick County': 'Limerick Garda Division',\n",
    "    'South Tipperary': 'Tipperary Garda Division',\n",
    "    'Galway City': 'Galway Garda Division',\n",
    "    'Louth County': 'Louth Garda Division',\n",
    "    'Kilkenny County': 'Kilkenny/Carlow Garda Division',\n",
    "    'North Tipperary': 'Tipperary Garda Division',\n",
    "    'Galway County': 'Galway Garda Division',\n",
    "    'Kildare County': 'Kildare Garda Division',\n",
    "    'Cavan County': 'Cavan/Monaghan Garda Division',\n",
    "    'Leitrim County': 'Sligo/Leitrim Garda Division',\n",
    "    'Sligo County': 'Sligo/Leitrim Garda Division',\n",
    "    'Meath County': 'Meath Garda Division',\n",
    "    'Offaly County': 'Laois/Offaly Garda Division',\n",
    "    'Wicklow County': 'Wicklow Garda Division',\n",
    "    'Longford County': 'Roscommon/Longford Garda Division',\n",
    "    'DÃºn Laoghaire-Rathdown': 'D.M.R. Eastern Garda Division',\n",
    "    'Donegal County': 'Donegal Garda Division',\n",
    "    'Mayo County': 'Mayo Garda Division',\n",
    "    'Carlow County': 'Kilkenny/Carlow Garda Division',\n",
    "    'Cork City': 'Cork City Garda Division',\n",
    "    'Cork County': 'Cork North Garda Division'\n",
    "}\n"
   ]
  },
  {
   "cell_type": "code",
   "execution_count": 25,
   "id": "b520bb14",
   "metadata": {},
   "outputs": [
    {
     "data": {
      "text/plain": [
       "['Fingal',\n",
       " 'Waterford City',\n",
       " 'Kerry County',\n",
       " 'Roscommon County',\n",
       " 'South Dublin',\n",
       " 'Monaghan County',\n",
       " 'Laois County',\n",
       " 'Wexford County',\n",
       " 'Limerick City',\n",
       " 'Westmeath County',\n",
       " 'Dublin City',\n",
       " 'Clare County',\n",
       " 'Waterford County',\n",
       " 'Limerick County',\n",
       " 'South Tipperary',\n",
       " 'Galway City',\n",
       " 'Louth County',\n",
       " 'Kilkenny County',\n",
       " 'North Tipperary',\n",
       " 'Galway County',\n",
       " 'Kildare County',\n",
       " 'Cavan County',\n",
       " 'Leitrim County',\n",
       " 'Sligo County',\n",
       " 'Meath County',\n",
       " 'Offaly County',\n",
       " 'Wicklow County',\n",
       " 'Longford County',\n",
       " 'DÃºn Laoghaire-Rathdown',\n",
       " 'Donegal County',\n",
       " 'Mayo County',\n",
       " 'Carlow County',\n",
       " 'Cork City',\n",
       " 'Cork County']"
      ]
     },
     "execution_count": 25,
     "metadata": {},
     "output_type": "execute_result"
    }
   ],
   "source": [
    "import json\n",
    "\n",
    "def get_geojson_key_values(geojson_file, key_on):\n",
    "    # Load GeoJSON file\n",
    "    with open(geojson_file) as f:\n",
    "        data = json.load(f)\n",
    "    \n",
    "    # Extract values for specified key_on property\n",
    "    values = []\n",
    "    for feature in data['features']:\n",
    "        values.append(feature['properties'][key_on])\n",
    "    \n",
    "    # Return unique values\n",
    "    return list(set(values))\n",
    "\n",
    "values = get_geojson_key_values('map.geojson', 'name')\n",
    "values"
   ]
  },
  {
   "cell_type": "code",
   "execution_count": 44,
   "id": "292ad699",
   "metadata": {},
   "outputs": [],
   "source": [
    "# Step 1: Import libraries\n",
    "import pandas as pd\n",
    "import folium\n",
    "import json\n",
    "\n",
    "# Define dictionary to match locations\n",
    "locations_dict = {\n",
    "    'Cavan/Monaghan Garda Division': 'Cavan County',\n",
    "    'Donegal Garda Division': 'Donegal County',\n",
    "    'Sligo/Leitrim Garda Division': 'Leitrim County',\n",
    "    'Louth Garda Division': 'Louth County',\n",
    "    'Clare Garda Division': 'Clare County',\n",
    "    'Mayo Garda Division': 'Mayo County',\n",
    "    'Galway Garda Division': 'Galway County',\n",
    "    'Roscommon/Longford Garda Division': 'Roscommon County',\n",
    "    'Cork City Garda Division': 'Cork City',\n",
    "    'Cork North Garda Division': 'Cork County',\n",
    "    'Cork West Garda Division': 'Cork County',\n",
    "    'Kerry Garda Division': 'Kerry County',\n",
    "    'Limerick Garda Division': 'Limerick County',\n",
    "    'Laois/Offaly Garda Division': 'Laois County',\n",
    "    'Meath Garda Division': 'Meath County',\n",
    "    'Wicklow Garda Division': 'Wicklow County',\n",
    "    'Westmeath Garda Division': 'Westmeath County',\n",
    "    'Kildare Garda Division': 'Kildare County',\n",
    "    'Tipperary Garda Division': 'North Tipperary',\n",
    "    'Wexford Garda Division': 'Wexford County',\n",
    "    'Kilkenny/Carlow Garda Division': 'Kilkenny County',\n",
    "    'Waterford Garda Division': 'Waterford County',\n",
    "    'D.M.R. South Central Garda Division': 'Dublin City',\n",
    "    'D.M.R. North Central Garda Division': 'Fingal',\n",
    "    'D.M.R. Northern Garda Division': 'Dublin City',\n",
    "    'D.M.R. Southern Garda Division': 'Dublin City',\n",
    "    'D.M.R. Eastern Garda Division': 'Dún Laoghaire-Rathdown',\n",
    "    'D.M.R. Western Garda Division': 'Dublin City'\n",
    "}\n",
    "\n",
    "# Step 2: Read in CSV file\n",
    "data = pd.read_csv('recorded_crime_ireland.csv')\n",
    "\n",
    "# Step 3: Map locations to matching dictionary\n",
    "data['Garda Division'] = data['Garda Division'].replace(locations_dict)\n",
    "# Step 4: Aggregate data by geographic area\n",
    "area_data = data.groupby('Garda Division')['VALUE'].sum().reset_index()\n",
    "\n",
    "# Step 5: Create Folium map\n",
    "map = folium.Map(location=[53.5, -8], zoom_start=7)\n",
    "\n",
    "# Step 6: Add choropleth layer to map\n",
    "geojson_data = json.load(open('map.geojson'))\n",
    "\n",
    "folium.Choropleth(\n",
    "    geo_data=geojson_data,\n",
    "    name='choropleth',\n",
    "    data=area_data,\n",
    "    columns=['Garda Division', 'VALUE'],\n",
    "    key_on='feature.properties.name',\n",
    "    fill_color='YlGn',\n",
    "    fill_opacity=0.7,\n",
    "    line_opacity=0.2,\n",
    "    legend_name='Crime count'\n",
    ").add_to(map)\n",
    "\n",
    "# Step 7: Customize map settings\n",
    "folium.LayerControl().add_to(map)\n",
    "map.save('crime_map.html')\n"
   ]
  },
  {
   "cell_type": "code",
   "execution_count": null,
   "id": "9296a398",
   "metadata": {},
   "outputs": [],
   "source": [
    "# Getting the correlations between drugs and alcohol and crime rates \n",
    "\n"
   ]
  },
  {
   "cell_type": "code",
   "execution_count": null,
   "id": "67cc4283",
   "metadata": {},
   "outputs": [],
   "source": []
  }
 ],
 "metadata": {
  "kernelspec": {
   "display_name": "Python 3 (ipykernel)",
   "language": "python",
   "name": "python3"
  },
  "language_info": {
   "codemirror_mode": {
    "name": "ipython",
    "version": 3
   },
   "file_extension": ".py",
   "mimetype": "text/x-python",
   "name": "python",
   "nbconvert_exporter": "python",
   "pygments_lexer": "ipython3",
   "version": "3.11.2"
  }
 },
 "nbformat": 4,
 "nbformat_minor": 5
}
